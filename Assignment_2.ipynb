{
  "nbformat": 4,
  "nbformat_minor": 0,
  "metadata": {
    "colab": {
      "name": "Assignment-2.ipynb",
      "provenance": [],
      "collapsed_sections": []
    },
    "kernelspec": {
      "name": "python3",
      "display_name": "Python 3"
    }
  },
  "cells": [
    {
      "cell_type": "code",
      "metadata": {
        "id": "zbvjwKPl5KtJ",
        "colab_type": "code",
        "outputId": "8161a841-1e16-48bc-c7ef-8acf8c1b2567",
        "colab": {
          "base_uri": "https://localhost:8080/",
          "height": 139
        }
      },
      "source": [
        "#Practical-1\n",
        "#Opning files \"Input.txt\" and \"Output.txt\" in \"r\" and \"w\" mode respectively\n",
        "file1 = open(\"Input.txt\",\"r\")\n",
        "file2 = open(\"Output.txt\",\"w\")\n",
        "#reading file \n",
        "for i in range(1,7):\n",
        "  f = file1.readline()\n",
        "  x=f.split(\" \")\n",
        "\n",
        "  if x[0]==\"ADD\":#checking if the function performed is Addition\n",
        "    add=0\n",
        "    for i in range(1,len(x)): #getting data from the line\n",
        "     add = int(add)+int(x[i]) #adding\n",
        "\n",
        "    print(add)\n",
        "    file2.write(\"Add %d\"%(add))\n",
        "\n",
        "\n",
        "  elif(x[0])==\"SUB\": #checking if the function performed is Subtraction\n",
        "    sub = int(x[1])\n",
        "    for i in range(2,len(x)): #getting data from the line\n",
        "      sub = int(sub)-int(x[i]) #Subtracting\n",
        "      print(sub)\n",
        "    file2.write(\"Sub %d\"%(sub))\n",
        "\n",
        "\n",
        "  elif(x[0])==\"MUL\": #checking if the function performed is multiplication\n",
        "    product=1\n",
        "    for i in range(1,len(x)): #getting data from the line\n",
        "      product = int(product)*int(x[i]) #Multiplying\n",
        "    print(product)\n",
        "    file2.write(\"Mul %d\"%(product))\n",
        "\n",
        "\n",
        "  elif(x[0])==\"POW\":#checking if the function performed is power\n",
        "    pow = 1\n",
        "    file2.write(\"Pow \")\n",
        "    for i in range(1,len(x),2): #getting data from the line\n",
        "      pow = int(x[i])**int(x[i+1]) #Raised to operation\n",
        "      file2.write(\"%d\\t\"%(pow))\n",
        "\n",
        "\n",
        "  elif (x[0]==\"DIV\"): #checking if the function performed is division\n",
        "    dividend=int(x[1])\n",
        "    for i in range(2,len(x)): #getting data from the line\n",
        "      dividend = int(dividend)/int(x[i]) #Division\n",
        "    print(dividend)\n",
        "    file2.write(\"Div %d\"%dividend)\n",
        "\n",
        "\n",
        "  elif(x[0]==\"MOD\"): #checking if the function performed is modulud\n",
        "      mod=0\n",
        "      file2.write(\"Mod \")\n",
        "      for i in range(1,len(x),2): #getting data from the line\n",
        "        mod = int(x[i])%int(x[i+1]) #Modulus\n",
        "        file2.write(\"%d\\t\"%(mod)) \n",
        "#closing files\n",
        "file2.close()\n",
        "file1.close()"
      ],
      "execution_count": 0,
      "outputs": [
        {
          "output_type": "stream",
          "text": [
            "98\n",
            "23\n",
            "12\n",
            "240\n",
            "6.0\n"
          ],
          "name": "stdout"
        },
        {
          "output_type": "execute_result",
          "data": {
            "text/plain": [
              "'\\nfor i in range(1,len(x)):\\n  add = int(x[i])+int(x[i+1])\\n  print(add)\\n\\nf = (file1.readline())\\nprint(f)\\nx=f.split(\" \")\\nprint(x)\\nif x[0]==\"SUB\"\\nfor i in range(1,len(x),2):\\n  add = int(x[i])+int(x[i+1])\\n  print(add)\\n'"
            ]
          },
          "metadata": {
            "tags": []
          },
          "execution_count": 52
        }
      ]
    },
    {
      "cell_type": "code",
      "metadata": {
        "id": "Kf-A49CWsIP4",
        "colab_type": "code",
        "colab": {
          "base_uri": "https://localhost:8080/",
          "height": 221
        },
        "outputId": "aab78a5c-5bf9-427f-ff70-f6a7932935ba"
      },
      "source": [
        "#Practical-2\n",
        "#Opning files \"Input.txt\" and \"Output.txt\" in \"r\" and \"w\" mode respectivel\n",
        "file1 = open(\"Input.txt\",\"r\")\n",
        "file2 = open(\"Output.txt\",\"w\")\n",
        "#declaring and initializaing variables\n",
        "name=\"\"\n",
        "fail=0\n",
        "total=0\n",
        "large=0\n",
        "s=0\n",
        "\n",
        "for i in range(0,7): #reading inputs from file\n",
        "\n",
        "  f=file1.readline()\n",
        "  x = f.split(\",\")\n",
        "  #print(x)\n",
        "\n",
        "  if x[0] == \"Name\": #Looking for required data\n",
        "    continue\n",
        "\n",
        "  else:\n",
        "    total = total+1 \n",
        "    s=0\n",
        "    \n",
        "    for j in range(1,len(x)): #Looking for marks of a student\n",
        "      s = int(s)+int(x[j]) #Taking sum of scores \n",
        "     \n",
        "      if int(x[j])<40:  #Checcking the passing criteria\n",
        "        fail+=1\n",
        "        break\n",
        "    if(s>large): #Updating highest score\n",
        "      large = s\n",
        "#writing in file\n",
        "file2.write(f\"Student with first class is:{name}\\n\")\n",
        "file2.write(\"Number of students fully passed:%d\\n\"%(total-fail))\n",
        "file2.write(\"Number of students failed:%d\\n\"%(fail))\n",
        "#closing files\n",
        "file1.close()\n",
        "file2.close()"
      ],
      "execution_count": 126,
      "outputs": [
        {
          "output_type": "stream",
          "text": [
            "\n",
            "\n",
            "\n",
            "\n",
            "\n",
            "\n",
            "\n",
            "\n",
            "\n",
            "\n",
            "\n",
            "\n"
          ],
          "name": "stdout"
        }
      ]
    }
  ]
}