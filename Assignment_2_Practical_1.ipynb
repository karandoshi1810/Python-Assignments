{
  "nbformat": 4,
  "nbformat_minor": 0,
  "metadata": {
    "colab": {
      "name": "Assignment-2 Practical-1.ipynb",
      "provenance": []
    },
    "kernelspec": {
      "name": "python3",
      "display_name": "Python 3"
    }
  },
  "cells": [
    {
      "cell_type": "code",
      "metadata": {
        "id": "Y8vtuYWgKHBs",
        "colab_type": "code",
        "colab": {}
      },
      "source": [
        "#Practical-1\n",
        "#Opning files \"Input.txt\" and \"Output.txt\" in \"r\" and \"w\" mode respectively\n",
        "file1 = open(\"Input.txt\",\"r\")\n",
        "file2 = open(\"Output.txt\",\"w\")\n",
        "#reading file \n",
        "for i in range(1,7):\n",
        "  f = file1.readline()\n",
        "  x=f.split(\" \")\n",
        "\n",
        "  if x[0]==\"ADD\":#checking if the function performed is Addition\n",
        "    add=0\n",
        "    for i in range(1,len(x)): #getting data from the line\n",
        "     add = int(add)+int(x[i]) #adding\n",
        "\n",
        "    print(add)\n",
        "    file2.write(\"Add %d\"%(add))\n",
        "\n",
        "\n",
        "  elif(x[0])==\"SUB\": #checking if the function performed is Subtraction\n",
        "    sub = int(x[1])\n",
        "    for i in range(2,len(x)): #getting data from the line\n",
        "      sub = int(sub)-int(x[i]) #Subtracting\n",
        "      print(sub)\n",
        "    file2.write(\"Sub %d\"%(sub))\n",
        "\n",
        "\n",
        "  elif(x[0])==\"MUL\": #checking if the function performed is multiplication\n",
        "    product=1\n",
        "    for i in range(1,len(x)): #getting data from the line\n",
        "      product = int(product)*int(x[i]) #Multiplying\n",
        "    print(product)\n",
        "    file2.write(\"Mul %d\"%(product))\n",
        "\n",
        "\n",
        "  elif(x[0])==\"POW\":#checking if the function performed is power\n",
        "    pow = 1\n",
        "    file2.write(\"Pow \")\n",
        "    for i in range(1,len(x),2): #getting data from the line\n",
        "      pow = int(x[i])**int(x[i+1]) #Raised to operation\n",
        "      file2.write(\"%d\\t\"%(pow))\n",
        "\n",
        "\n",
        "  elif (x[0]==\"DIV\"): #checking if the function performed is division\n",
        "    dividend=int(x[1])\n",
        "    for i in range(2,len(x)): #getting data from the line\n",
        "      dividend = int(dividend)/int(x[i]) #Division\n",
        "    print(dividend)\n",
        "    file2.write(\"Div %d\"%dividend)\n",
        "\n",
        "\n",
        "  elif(x[0]==\"MOD\"): #checking if the function performed is modulud\n",
        "      mod=0\n",
        "      file2.write(\"Mod \")\n",
        "      for i in range(1,len(x),2): #getting data from the line\n",
        "        mod = int(x[i])%int(x[i+1]) #Modulus\n",
        "        file2.write(\"%d\\t\"%(mod)) \n",
        "#closing files\n",
        "file2.close()\n",
        "file1.close()"
      ],
      "execution_count": 0,
      "outputs": []
    }
  ]
}