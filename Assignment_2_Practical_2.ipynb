{
  "nbformat": 4,
  "nbformat_minor": 0,
  "metadata": {
    "colab": {
      "name": "Assignment-2 Practical-2.ipynb",
      "provenance": []
    },
    "kernelspec": {
      "name": "python3",
      "display_name": "Python 3"
    }
  },
  "cells": [
    {
      "cell_type": "code",
      "metadata": {
        "id": "Hk3HYsKUKVeC",
        "colab_type": "code",
        "colab": {}
      },
      "source": [
        "#Practical-2\n",
        "#Opning files \"Input.txt\" and \"Output.txt\" in \"r\" and \"w\" mode respectivel\n",
        "file1 = open(\"Input.txt\",\"r\")\n",
        "file2 = open(\"Output.txt\",\"w\")\n",
        "#declaring and initializaing variables\n",
        "name=\"\"\n",
        "fail=0\n",
        "total=0\n",
        "large=0\n",
        "s=0\n",
        "\n",
        "for i in range(0,7): #reading inputs from file\n",
        "\n",
        "  f=file1.readline()\n",
        "  x = f.split(\",\")\n",
        "  #print(x)\n",
        "\n",
        "  if x[0] == \"Name\": #Looking for required data\n",
        "    continue\n",
        "\n",
        "  else:\n",
        "    total = total+1 \n",
        "    s=0\n",
        "    \n",
        "    for j in range(1,len(x)): #Looking for marks of a student\n",
        "      s = int(s)+int(x[j]) #Taking sum of scores \n",
        "     \n",
        "      if int(x[j])<40:  #Checcking the passing criteria\n",
        "        fail+=1\n",
        "        break\n",
        "    if(s>large): #Updating highest score\n",
        "      large = s\n",
        "#writing in file\n",
        "file2.write(f\"Student with first class is:{name}\\n\")\n",
        "file2.write(\"Number of students fully passed:%d\\n\"%(total-fail))\n",
        "file2.write(\"Number of students failed:%d\\n\"%(fail))\n",
        "#closing files\n",
        "file1.close()\n",
        "file2.close()"
      ],
      "execution_count": 0,
      "outputs": []
    }
  ]
}